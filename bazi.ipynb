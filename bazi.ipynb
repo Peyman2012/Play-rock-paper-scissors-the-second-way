{
 "cells": [
  {
   "cell_type": "code",
   "execution_count": 3,
   "metadata": {},
   "outputs": [],
   "source": [
    "score1=0\n",
    "score2=0"
   ]
  },
  {
   "cell_type": "code",
   "execution_count": 12,
   "metadata": {},
   "outputs": [
    {
     "name": "stdout",
     "output_type": "stream",
     "text": [
      "Player 1 Please Enter 1:(scissors) , 2:(stome) , 3:(paper):1\n",
      "Player 2 Please Enter 1:(scissors) , 2:(stome) , 3:(paper):1\n",
      "Player 1 Please Enter 1:(scissors) , 2:(stome) , 3:(paper):1\n",
      "Player 2 Please Enter 1:(scissors) , 2:(stome) , 3:(paper):2\n",
      "Player 1 Please Enter 1:(scissors) , 2:(stome) , 3:(paper):2\n",
      "Player 2 Please Enter 1:(scissors) , 2:(stome) , 3:(paper):1\n",
      "Player 1 Please Enter 1:(scissors) , 2:(stome) , 3:(paper):3\n",
      "Player 2 Please Enter 1:(scissors) , 2:(stome) , 3:(paper):1\n",
      "Player 1 Please Enter 1:(scissors) , 2:(stome) , 3:(paper):1\n",
      "Player 2 Please Enter 1:(scissors) , 2:(stome) , 3:(paper):1\n",
      "Player 1 Please Enter 1:(scissors) , 2:(stome) , 3:(paper):1\n",
      "Player 2 Please Enter 1:(scissors) , 2:(stome) , 3:(paper):2\n",
      "Score for player1 is  9\n",
      "Score for player2 is  18\n"
     ]
    }
   ],
   "source": [
    "for i in range(0,6):\n",
    "    a=int(input(\"Player 1 Please Enter 1:(scissors) , 2:(stome) , 3:(paper):\"))\n",
    "    b=int(input(\"Player 2 Please Enter 1:(scissors) , 2:(stome) , 3:(paper):\"))\n",
    "    if ((a==1 and b==3) or (a==3 and b==2) or (a==2 and b==1)) :\n",
    "        score1=score1+1\n",
    "    elif ((a==3 and b==1) or (a==2 and b==3) or (a==1 and b==2)):\n",
    "        score2=score2+1\n",
    "print(\"Score for player1 is \",score1)\n",
    "print(\"Score for player2 is \",score2)\n",
    "    "
   ]
  },
  {
   "cell_type": "code",
   "execution_count": null,
   "metadata": {},
   "outputs": [],
   "source": []
  }
 ],
 "metadata": {
  "kernelspec": {
   "display_name": "Python 3",
   "language": "python",
   "name": "python3"
  },
  "language_info": {
   "codemirror_mode": {
    "name": "ipython",
    "version": 3
   },
   "file_extension": ".py",
   "mimetype": "text/x-python",
   "name": "python",
   "nbconvert_exporter": "python",
   "pygments_lexer": "ipython3",
   "version": "3.6.13"
  }
 },
 "nbformat": 4,
 "nbformat_minor": 2
}
